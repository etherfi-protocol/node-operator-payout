{
 "cells": [
  {
   "cell_type": "markdown",
   "id": "a6b6b1a2",
   "metadata": {},
   "source": [
    "## How Operator Payout Calculated (skip to bottom to see reward calculation)"
   ]
  },
  {
   "cell_type": "markdown",
   "id": "cf2fc910",
   "metadata": {},
   "source": [
    "This notebook calculates the ETH earned by each node operator from 19990000-20860000 or from May 31 to Sept 30th. The methodology for determining how much each node operator earned involves calculating the rewards accumulated by all the node contracts and eigenpods between block from_block=19990000 and block to_block=20860000. Additionally, all rewards claimed within this time period are also included in the calculation.\n",
    "\n",
    "The final formula is:\n",
    "payout_amount = (balance_at_to_block - balance_at_from_block + all_claimed_rewards)\n",
    "\n",
    "**Rewards still in the consensus layer, which have not been partially withdrawn to the withdrawal safe, are not part of the payout amount, as they will be paid out in the next quarter.**\n",
    "\n",
    "Eigenpods: Contracts where consensus rewards are deposited.\n",
    "Node Contracts: Where MEV rewards are deposited."
   ]
  },
  {
   "cell_type": "markdown",
   "id": "e9469c07",
   "metadata": {},
   "source": [
    "## Import Libraries"
   ]
  },
  {
   "cell_type": "code",
   "execution_count": 1,
   "id": "845f9705",
   "metadata": {},
   "outputs": [],
   "source": [
    "import aiohttp\n",
    "import asyncio\n",
    "from dotenv import load_dotenv\n",
    "import json\n",
    "import os\n",
    "import time\n",
    "from web3 import Web3\n",
    "from web3.eth import Contract, AsyncEth"
   ]
  },
  {
   "cell_type": "markdown",
   "id": "546723e3",
   "metadata": {},
   "source": [
    "## Constants/Environment Variables"
   ]
  },
  {
   "cell_type": "code",
   "execution_count": 2,
   "id": "433a0b0f",
   "metadata": {},
   "outputs": [],
   "source": [
    "#env variables\n",
    "load_dotenv()\n",
    "WEB3_URL=os.getenv(\"WEB3_URL\")\n",
    "BEACONCHAIN_API_KEY=os.getenv(\"BEACONCHAIN_API_KEY\")\n",
    "BEACON_URL=os.getenv(\"BEACON_URL\")\n",
    "GRAPH_URL=os.getenv(\"MAINNET_GRAPH_URL\")\n",
    "ETHERSCAN_KEY=os.getenv(\"ETHERSCAN_KEY\")\n",
    "DISCORD_WEBHOOK=str(os.getenv(\"DISCORD_WEBHOOK\"))\n",
    "\n",
    "#contract addresses\n",
    "LIQUIDITY_POOL_ADDRESS= \"0x308861A430be4cce5502d0A12724771Fc6DaF216\"\n",
    "P2P_ADDRESS= \"0x70eb1ef5626c3D7598a5730F3bF7a328ed8F7FC5\"  \n",
    "SSV_ADDRESS= \"0x27c229FE370C1195c45ff1953e96acd741aA48c0\"\n",
    "OBOL_ADDRESS=\"0xbeFa010044579f47C94E230C14C62811ff8ed1fc\"\n",
    "MAKERDAO_MULTICALL_ADDRESS = \"0xeefba1e63905ef1d7acba5a8513c70307c1ce441\"\n",
    "MAKERDAO_MULTICALL_ADDRESS = \"0xeefba1e63905ef1d7acba5a8513c70307c1ce441\"\n",
    "ETHERFIVIEW_CONTRACT = \"0x2ecd155405cA52a5ca0e552981fF44A8252FAb81\"\n",
    "\n",
    "#provider\n",
    "provider = Web3(Web3.HTTPProvider(WEB3_URL))\n",
    "asyncProvider = Web3(Web3.AsyncHTTPProvider(WEB3_URL), modules={'eth': (AsyncEth,)})\n",
    "\n",
    "#ABIs\n",
    "MAKERDAO_MULTICALL_ABI = json.load(open(\"./abis/multicall.json\"))\n",
    "ETHERFIVIEW_CONTRACT_ABI = json.load(open(\"./abis/etherfiviewer.json\"))\n",
    "st_contract_abi = json.load(open(\"./abis/eeth.json\"))\n",
    "lido_abi = json.load(open(\"./abis/lido.json\"))\n",
    "\n",
    "BLOCK_NUMBER=None\n",
    "TIMESTAMP=None\n",
    "SLOT_NUMBER=None\n",
    "BATCH_SIZE=50\n",
    "BATCH_SIZE=50\n",
    "PAGINATION_LIMIT=1000\n",
    "VALIDATORS_LEN = 1000 #rename this\n",
    "MULTICALL_BATCH = 1000\n",
    "\n",
    "def compute_slot_at_timestamp(timestamp):\n",
    "    genesisTime = 1606824023\n",
    "    return (timestamp - genesisTime) // 12"
   ]
  },
  {
   "cell_type": "markdown",
   "id": "eced36d6",
   "metadata": {},
   "source": [
    "## Declare Classes"
   ]
  },
  {
   "cell_type": "code",
   "execution_count": 3,
   "id": "2bede7bb",
   "metadata": {},
   "outputs": [],
   "source": [
    "\n",
    "class Multicall:\n",
    "    def __init__(self, w3: Web3, chain='mainnet', custom_address=None, custom_abi=None):\n",
    "        address = Web3.to_checksum_address(MAKERDAO_MULTICALL_ADDRESS)\n",
    "        abi = MAKERDAO_MULTICALL_ABI\n",
    "        self.multicall = w3.eth.contract(address=address, abi=abi)\n",
    "\n",
    "    async def call(self, calls: list,blocknumber: any = 'latest') -> list:\n",
    "        res = self.multicall.functions.aggregate(calls).call(block_identifier=blocknumber)\n",
    "        return res\n",
    "\n",
    "    def create_call(self, contract: Contract, fn_name: str,args: list) -> tuple:\n",
    "        return (contract.address, contract.encodeABI(fn_name=fn_name, args=args))\n"
   ]
  },
  {
   "cell_type": "code",
   "execution_count": 4,
   "id": "6e5a7f25",
   "metadata": {},
   "outputs": [],
   "source": [
    "\n",
    "class Subgraph():\n",
    "\n",
    "    def __init__(self, network: str):\n",
    "        self.network = network\n",
    "        self.validators = []\n",
    "        self.blockno = BLOCK_NUMBER\n",
    "        self.config_map = {\n",
    "            \"mainnet\": {\n",
    "                \"graph_url\": GRAPH_URL,\n",
    "            }\n",
    "        }\n",
    "        self.queries = {\n",
    "            \"validators\": '''\n",
    "            query GetValidators($limit: Int!, $value: String!) {\n",
    "              validators(\n",
    "                first: $limit\n",
    "                block: {number: %s}\n",
    "                        where: {\n",
    "          and: [{ id_gt: $value }, { blockNumber_gt: \"18620000\" }, {phase_in: [LIVE, EXITED, FULLY_WITHDRAWN, WAITING_FOR_APPROVAL, BEING_SLASHED]}]\n",
    "        }\n",
    "              ) {\n",
    "                id\n",
    "                phase\n",
    "                validatorPubKey\n",
    "                BNFTHolder\n",
    "                TNFTHolder\n",
    "                etherfiNode\n",
    "                bid {\n",
    "                    bidderAddress\n",
    "                }\n",
    "              }\n",
    "            }\n",
    "            ''',\n",
    "        }\n",
    "        \n",
    "\n",
    "    async def query_graph(self, query: str, field_name: str, variables: dict[str, any]):\n",
    "        self.blockno = BLOCK_NUMBER\n",
    "        GRAPH_URL = self.config_map[self.network][\"graph_url\"]\n",
    "        async with aiohttp.ClientSession() as session:\n",
    "            async with session.post(GRAPH_URL, json={'query': query, 'variables': variables}) as response:\n",
    "                data = await response.json()\n",
    "                if 'data' in data and field_name in data['data']:\n",
    "                    return data['data'][field_name]\n",
    "                else:\n",
    "                    raise Exception(f\"Error fetching data from subgraph: {data}\")\n",
    "      \n",
    "    async def fetch_large_data_from_graph(self, query: str, field_name: str):   \n",
    "        try:\n",
    "            async def get_batch(value):\n",
    "                try:\n",
    "                    variables = {'limit': PAGINATION_LIMIT, 'value': value}\n",
    "                    res = await self.query_graph(query, field_name, variables)\n",
    "                    return res\n",
    "                except Exception as error:\n",
    "                    raise Exception(str(error))\n",
    "            res = []\n",
    "            value = \" \"\n",
    "            while True:\n",
    "                batch = await get_batch(value)\n",
    "                res.extend(batch)\n",
    "                if len(batch) < PAGINATION_LIMIT:\n",
    "                    break\n",
    "                \n",
    "                value = batch[-1][\"id\"]\n",
    "                time.sleep(0.1)\n",
    "            print(\"length of large data is: \", len(res))\n",
    "            return res\n",
    "        except Exception as error:\n",
    "            raise Exception(\"Error: query_from_graph: {}\".format(error))\n",
    "        \n",
    "    async def fetch_validators(self):\n",
    "        query = self.queries[\"validators\"]\n",
    "        validators = await self.fetch_large_data_from_graph(query, \"validators\")\n",
    "        return validators\n",
    "    "
   ]
  },
  {
   "cell_type": "markdown",
   "id": "999195c0",
   "metadata": {},
   "source": [
    "\n",
    "Note: Using Beaconchain API to determine address Validator Consensus Rewards Go (Eigenpod)"
   ]
  },
  {
   "cell_type": "code",
   "execution_count": 5,
   "id": "e14e55d3",
   "metadata": {},
   "outputs": [],
   "source": [
    "\n",
    "class BeaconchainRateLimiter:\n",
    "  def __init__(self, limit, interval):\n",
    "    self.limit = limit\n",
    "    self.interval = interval\n",
    "    self.semaphore = asyncio.Semaphore(limit)\n",
    "\n",
    "  async def getSempahore(self):\n",
    "    await self.semaphore.acquire()\n",
    "    asyncio.get_event_loop().call_later(self.interval, self.release)\n",
    "\n",
    "  def release(self):\n",
    "    self.semaphore.release()\n",
    "\n",
    "class BeaconchainAPI():\n",
    "    __instance = None\n",
    "    __inited = False\n",
    "    def __new__(cls):\n",
    "        if BeaconchainAPI.__instance is None:\n",
    "            BeaconchainAPI.__instance = object.__new__(cls)\n",
    "        return BeaconchainAPI.__instance\n",
    "\n",
    "    def __init__(self):\n",
    "      self.beacon_api = \"https://beaconcha.in/api/v1\"\n",
    "      if BeaconchainAPI.__inited:\n",
    "        return\n",
    "      BeaconchainAPI.__inited = True\n",
    "      self.rate_limiter = BeaconchainRateLimiter(10, 3) # 10 requests per 1.3 seconds\n",
    "\n",
    "    async def call(self, url):\n",
    "      await self.rate_limiter.getSempahore()\n",
    "      try:\n",
    "        async with aiohttp.ClientSession() as session:\n",
    "            async with session.get(url) as response:\n",
    "                if response.status == 200:\n",
    "                    data = await response.json()\n",
    "                    if \"data\" in data:\n",
    "                        return data[\"data\"]\n",
    "                else:\n",
    "                    print(\"Error: \", response.status)\n",
    "                    raise Exception(\"Beaconchain.in returns status \" + str(response.status))\n",
    "      except aiohttp.ClientError as e:\n",
    "        print(\"Error: \", e)\n",
    "\n",
    "    async def fetch_batched_val_beacon_info(self, indicesOrPubkey, batch_size, network: str) -> list:\n",
    "        all_info = [self.get_group_val_beacon_info(indicesOrPubkey[i: i+batch_size], network) for i in range(0, len(indicesOrPubkey), batch_size)]\n",
    "        all_info = await asyncio.gather(*all_info)\n",
    "        retval = [info for group_info in all_info for info in group_info]\n",
    "        return retval\n",
    "\n",
    "    async def get_group_val_beacon_info(self, indicesOrPubkey: list[str], network: str) -> list:\n",
    "        try:\n",
    "          api = self.beacon_api\n",
    "          url = f\"{api}/validator/{','.join(indicesOrPubkey)}?apikey={BEACONCHAIN_API_KEY}\"\n",
    "          vals_info = await self.call(url)\n",
    "          # There is an edge case that if there is only one validator index, the api will return an object instead of array\n",
    "          if not isinstance(vals_info, list):\n",
    "            print(f\"Finished fetching validator info! Validators fetched: {1}\")\n",
    "            return [vals_info]\n",
    "          else:\n",
    "            return vals_info\n",
    "        except Exception as error:\n",
    "          raise Exception(str(error))\n",
    "        \n",
    "    async def get_beacon_info_by_pubkeys(self, pubkeys):\n",
    "      return await self.fetch_batched_val_beacon_info(pubkeys, BATCH_SIZE, \"mainnet\")\n",
    "    \n",
    "    async def get_timestamp_by_block(self, block_number):\n",
    "      url = f\"{self.beacon_api}/execution/block/{block_number}?apikey={BEACONCHAIN_API_KEY}\"\n",
    "      return (await self.call(url))[0]['timestamp']\n",
    "      "
   ]
  },
  {
   "cell_type": "markdown",
   "id": "b9779728",
   "metadata": {},
   "source": [
    "## Class Instances and Contracts"
   ]
  },
  {
   "cell_type": "code",
   "execution_count": 6,
   "id": "6a4a48fd",
   "metadata": {},
   "outputs": [],
   "source": [
    "#contracts\n",
    "etherfiview_contract = provider.eth.contract(address=Web3.to_checksum_address(ETHERFIVIEW_CONTRACT), abi=ETHERFIVIEW_CONTRACT_ABI)\n",
    "multicall_contract = provider.eth.contract(address=Web3.to_checksum_address(MAKERDAO_MULTICALL_ADDRESS), abi=MAKERDAO_MULTICALL_ABI)\n",
    "\n",
    "#objects\n",
    "subgraph = Subgraph(\"mainnet\")\n",
    "multicall = Multicall(provider)\n",
    "beacon_api = BeaconchainAPI()"
   ]
  },
  {
   "cell_type": "markdown",
   "id": "769ee0fc",
   "metadata": {},
   "source": [
    "## Library of Functions"
   ]
  },
  {
   "cell_type": "code",
   "execution_count": 7,
   "id": "43556045",
   "metadata": {},
   "outputs": [],
   "source": [
    "\n",
    "async def get_block_number_by_timestamp(timestamp, network: str = \"mainnet\"):\n",
    "  async with aiohttp.ClientSession() as session:\n",
    "    async with session.get(f\"https://api.etherscan.io/api?module=block&action=getblocknobytime&timestamp={timestamp}&closest=before&apikey={ETHERSCAN_KEY}\") as response:\n",
    "      if response.status == 200:\n",
    "        data = await response.json()\n",
    "        return int(data[\"result\"])\n",
    "      else:\n",
    "        raise Exception(\"Error fetching block number from Etherscan\")\n",
    "      \n",
    "async def get_balance(address, block_number=None, rpc_url=WEB3_URL):\n",
    "    return provider.eth.get_balance(address, block_identifier=block_number)\n",
    "      "
   ]
  },
  {
   "cell_type": "code",
   "execution_count": 8,
   "id": "ed5cb9eb",
   "metadata": {},
   "outputs": [],
   "source": [
    "async def get_balances(addresses): \n",
    "    balances = []\n",
    "    calls = []\n",
    "    counter = 0\n",
    "    for i in range(0, len(addresses), MULTICALL_BATCH):\n",
    "        batch = addresses[i:min(i+MULTICALL_BATCH, len(addresses))]\n",
    "        calls = [multicall.create_call(multicall_contract, \"getEthBalance\", [Web3.to_checksum_address(addy)]) for addy in batch]\n",
    "        results = await multicall.call(calls, blocknumber=BLOCK_NUMBER)\n",
    "        for j, response in enumerate(results[1]):\n",
    "            counter+=1\n",
    "            balances.append(int(response.hex(), 16))\n",
    "    addressBalances = dict(zip(addresses, balances))\n",
    "    return addressBalances\n"
   ]
  },
  {
   "cell_type": "markdown",
   "id": "17fd8719",
   "metadata": {},
   "source": [
    "## Etherfi Protocol Details Functions"
   ]
  },
  {
   "cell_type": "code",
   "execution_count": 9,
   "id": "f8ceb2c9",
   "metadata": {},
   "outputs": [],
   "source": [
    "def get_num_vals_shared_contract(validators):\n",
    "    val_contract_count = {}\n",
    "    for val in validators:\n",
    "        if val[\"etherfiNode\"] in val_contract_count:\n",
    "            val_contract_count[val[\"etherfiNode\"]] += 1\n",
    "        else:\n",
    "            val_contract_count[val[\"etherfiNode\"]] = 1\n",
    "    return val_contract_count\n",
    "\n",
    "async def get_pubkeys(validators):\n",
    "    pubkeys = []\n",
    "    for val in validators:\n",
    "        if(val[\"validatorPubKey\"]):\n",
    "            pubkeys.append(val[\"validatorPubKey\"])\n",
    "    return pubkeys\n",
    "\n",
    "async def get_etherfi_node_contracts(validators): #execution rewards go here\n",
    "    execution_contracts = []\n",
    "    for val in validators:\n",
    "        if(val[\"etherfiNode\"]):\n",
    "            execution_contracts.append(val[\"etherfiNode\"])\n",
    "    return list(set(execution_contracts))\n",
    "\n",
    "async def get_eigenpods(beacon_info): #consensus rewards go here\n",
    "    eigenpods = ['0x' + info['withdrawalcredentials'][26:]for info in beacon_info]\n",
    "    return list(set(eigenpods))\n",
    "\n",
    "def get_pubkey_to_eigenpods(pubkeys, beacon_info):\n",
    "    pubkey_to_eigenpods = {}\n",
    "    for val in beacon_info:\n",
    "        pubkey_to_eigenpods[(val[\"pubkey\"]).lower()] = \"0x\" + val[\"withdrawalcredentials\"][26:]\n",
    "    return pubkey_to_eigenpods"
   ]
  },
  {
   "cell_type": "code",
   "execution_count": 10,
   "id": "6facb72a",
   "metadata": {},
   "outputs": [],
   "source": [
    "async def get_delayed_withdrawal_eth(ids):\n",
    "    delayedWithdrawalBalance = []\n",
    "    wsEth = []\n",
    "    eigenPod = []\n",
    "    for i in range(0, len(ids), VALIDATORS_LEN):\n",
    "        batch = ids[i:min(i+VALIDATORS_LEN, len(ids))]\n",
    "        res = etherfiview_contract.functions.EtherFiNodesManager_splitBalanceInExecutionLayer(batch).call(block_identifier=BLOCK_NUMBER)\n",
    "        wsEth += res[0]\n",
    "        eigenPod += res[1]\n",
    "        delayedWithdrawalBalance += res[2]\n",
    "    return wsEth, eigenPod, delayedWithdrawalBalance\n",
    "\n",
    "async def get_ids_etherfinodes(validators):\n",
    "    ids = []\n",
    "    etherfi_contracts = []\n",
    "    for val in validators:\n",
    "        if(val[\"etherfiNode\"] not in etherfi_contracts):\n",
    "            ids.append(int(val[\"id\"], 16))\n",
    "            etherfi_contracts.append(val[\"etherfiNode\"])\n",
    "    return ids, etherfi_contracts\n"
   ]
  },
  {
   "cell_type": "markdown",
   "id": "6b5397d1",
   "metadata": {},
   "source": [
    "## Variables"
   ]
  },
  {
   "cell_type": "markdown",
   "id": "576f5d80",
   "metadata": {},
   "source": [
    "### Modify BlockNo and Timestamp Below"
   ]
  },
  {
   "cell_type": "code",
   "execution_count": 11,
   "id": "b29ef5d7",
   "metadata": {},
   "outputs": [],
   "source": [
    "##### PROVIDE BLOCK NUMBER  ######\n",
    "BLOCK_NUMBER = 19990000\n",
    "#################################\n",
    "\n",
    "BLOCK_NUMBER = (await asyncProvider.eth.get_block_number())-40 if BLOCK_NUMBER is None else BLOCK_NUMBER"
   ]
  },
  {
   "cell_type": "code",
   "execution_count": 12,
   "id": "ccd5dd06",
   "metadata": {},
   "outputs": [],
   "source": [
    "#differentiate different types of validators\n",
    "def filter_validators_by_phase(validators, phases):\n",
    "    filtered_validators = []\n",
    "    for val in validators:\n",
    "        if val[\"phase\"] in phases:\n",
    "            filtered_validators.append(val)\n",
    "    return filtered_validators"
   ]
  },
  {
   "cell_type": "markdown",
   "id": "de09c951",
   "metadata": {},
   "source": [
    "## Node Operator Rewards Calculation"
   ]
  },
  {
   "cell_type": "code",
   "execution_count": 13,
   "id": "0061e4cd",
   "metadata": {},
   "outputs": [],
   "source": [
    "#assume balance of live or exited is 32eth\n",
    "async def get_rewards_payout_to_no(validators, pubkey_to_eigenpod, beacon_balances, eigenpods_balances, etherfi_node_balances, delayed_withdrawal_eth_balance, vals_per_contract):\n",
    "    node_op_payout = {}\n",
    "    for val in validators:\n",
    "        no = val[\"bid\"][\"bidderAddress\"]\n",
    "        num_validators_sharing_the_safe = vals_per_contract[val[\"etherfiNode\"]]\n",
    "        eigenpod = pubkey_to_eigenpod[(val[\"validatorPubKey\"]).lower()]\n",
    "        beacon_balance = 0\n",
    "        delayed_withdrawal_balance = delayed_withdrawal_eth_balance[val[\"etherfiNode\"]]\n",
    "        eigenpod_balance =  eigenpods_balances[eigenpod]\n",
    "        etherfi_node_balance = etherfi_node_balances[val[\"etherfiNode\"]]\n",
    "        total_balance = beacon_balance + (delayed_withdrawal_balance + eigenpod_balance + etherfi_node_balance) / num_validators_sharing_the_safe / 10**18\n",
    "        if(total_balance < 31):\n",
    "            total_balance += 32\n",
    "        assert(val[\"TNFTHolder\"].lower() == LIQUIDITY_POOL_ADDRESS.lower())\n",
    "        acrruedRewards = total_balance - 32\n",
    "        node_op_payout[no] = node_op_payout.get(no, 0) + 0.05 * acrruedRewards\n",
    "    return node_op_payout\n",
    "\n",
    "async def get_rewards_payout_for_withdrawn_validator_no(validators, pubkey_to_eigenpod, eigenpods_balances, etherfi_node_balances, vals_per_contract):\n",
    "    node_op_payout = {}\n",
    "    for val in validators:\n",
    "        no = val[\"bid\"][\"bidderAddress\"]\n",
    "        num_validators_sharing_the_safe = vals_per_contract[val[\"etherfiNode\"]]\n",
    "        eigenpod = pubkey_to_eigenpod[(val[\"validatorPubKey\"]).lower()]\n",
    "        eigenpod_balance =  eigenpods_balances[eigenpod]\n",
    "        etherfi_node_balance = (etherfi_node_balances[val[\"etherfiNode\"]])\n",
    "        accruedRewards = (eigenpod_balance + etherfi_node_balance) / num_validators_sharing_the_safe / 10**18\n",
    "        node_op_payout[no] = node_op_payout.get(no, 0) + 0.05 * accruedRewards\n",
    "    return node_op_payout"
   ]
  },
  {
   "cell_type": "code",
   "execution_count": 14,
   "id": "18f38e05",
   "metadata": {},
   "outputs": [],
   "source": [
    "FROM_BLOCK = 19990000 #May-31-2024\n",
    "TO_BLOCK = 20860000 #Sep-30-2024"
   ]
  },
  {
   "cell_type": "code",
   "execution_count": 15,
   "id": "18ce4786",
   "metadata": {},
   "outputs": [
    {
     "name": "stdout",
     "output_type": "stream",
     "text": [
      "Block number:  20860000\n",
      "length of large data is:  57484\n",
      "length of all validators at start:  57484\n",
      "length of max eth validators:  54305\n"
     ]
    }
   ],
   "source": [
    "#Get total rewards at START_BLOCK grouped by node operator\n",
    "no_to_payout_end = {}\n",
    "\n",
    "#takes 3-7mins to run\n",
    "#validators with 1 eth deposited to beacon deposit contract\n",
    "BLOCK_NUMBER = TO_BLOCK\n",
    "print(\"Block number: \", BLOCK_NUMBER)\n",
    "\n",
    "\n",
    "all_validators_at_end = await subgraph.fetch_large_data_from_graph((subgraph.queries[\"validators\"]) % BLOCK_NUMBER, \"validators\")\n",
    "print(\"length of all validators at start: \", len(all_validators_at_end))\n",
    "\n",
    "# # validators with 32 eth\n",
    "max_eth_validators = filter_validators_by_phase(all_validators_at_end, [\"LIVE\", \"EXITED\", \"BEING_SLASHED\"])\n",
    "print(\"length of max eth validators: \", len(max_eth_validators))\n",
    "max_eth_validators_ids, _ = await get_ids_etherfinodes(max_eth_validators)\n",
    "\n",
    "max_eth_pubkeys = await get_pubkeys(max_eth_validators)\n",
    "max_eth_validators_beacon_info = await beacon_api.get_beacon_info_by_pubkeys(max_eth_pubkeys)\n",
    "max_eth_validators_etherfinodes = await get_etherfi_node_contracts(max_eth_validators)\n",
    "max_eth_validators_eigenpods = await get_eigenpods(max_eth_validators_beacon_info)\n",
    "\n",
    "#validators with 0 eth towards validators but has rewards in eigenpods\n",
    "pod_rewards_only_validators = filter_validators_by_phase(all_validators_at_end, [\"FULLY_WITHDRAWN\"])\n",
    "pod_rewards_only_pubkeys = await get_pubkeys(pod_rewards_only_validators)\n",
    "pod_rewards_only_validators_beacon_info = await beacon_api.get_beacon_info_by_pubkeys(pod_rewards_only_pubkeys)\n",
    "pod_rewards_only_validators_etherfinodes = await get_etherfi_node_contracts(pod_rewards_only_validators)\n",
    "pod_rewards_only_validators_eigenpods = await get_eigenpods(pod_rewards_only_validators_beacon_info)\n",
    "\n",
    "# validators with 32 eth\n",
    "max_eth_validator_beacon_balances = []\n",
    "max_eth_validator_eigenpods_balances = await get_balances(max_eth_validators_eigenpods)\n",
    "max_eth_validators_etherfinode_balances = await get_balances(max_eth_validators_etherfinodes)\n",
    "_, _, max_eth_validator_delayed_balance = await get_delayed_withdrawal_eth(max_eth_validators_ids)\n",
    "delayed_withdrawal_eth_balance = dict(zip(max_eth_validators_etherfinodes, max_eth_validator_delayed_balance))\n",
    "\n",
    "\n",
    "#validators with 0 eth towards validators but has rewards in eigenpods\n",
    "pod_rewards_only_validators_eigenpods_balances = await get_balances(pod_rewards_only_validators_eigenpods)\n",
    "pod_rewards_only_validators_etherfinode_balances = await get_balances(pod_rewards_only_validators_etherfinodes)\n",
    "\n",
    "vals_per_contract = get_num_vals_shared_contract(max_eth_validators + pod_rewards_only_validators)\n",
    "max_validator_external_payout = await get_rewards_payout_to_no(max_eth_validators, get_pubkey_to_eigenpods(max_eth_pubkeys, max_eth_validators_beacon_info), max_eth_validator_beacon_balances, max_eth_validator_eigenpods_balances, max_eth_validators_etherfinode_balances, delayed_withdrawal_eth_balance, vals_per_contract)\n",
    "pod_rewards_only_external_payout = await get_rewards_payout_for_withdrawn_validator_no(pod_rewards_only_validators, get_pubkey_to_eigenpods(pod_rewards_only_pubkeys, pod_rewards_only_validators_beacon_info), pod_rewards_only_validators_eigenpods_balances, pod_rewards_only_validators_etherfinode_balances, vals_per_contract)\n",
    "\n",
    "\n",
    "for no, balance in max_validator_external_payout.items():\n",
    "    no_to_payout_end[no] = (balance + pod_rewards_only_external_payout.get(no, 0))\n",
    "\n"
   ]
  },
  {
   "cell_type": "markdown",
   "id": "3c06d14c",
   "metadata": {},
   "source": [
    "### All Node Operator Rewards claimed by the protocol earned within START_BLOCK to END_BLOCK"
   ]
  },
  {
   "cell_type": "code",
   "execution_count": 16,
   "id": "b202d59c",
   "metadata": {},
   "outputs": [
    {
     "name": "stdout",
     "output_type": "stream",
     "text": [
      "length of logs:  13498\n",
      "{'0x7c0576343975a1360ceb91238e7b7985b8d71bf4': 21.636757819731805, '0xd624feff4b4e77486b544c93a30794ca4b3f10a2': 18.425556655546995, '0x78ca32ac90d7f99225a3b9288d561e0cb3744899': 19.379796923096414, '0xf92204022cdf7ee0763ef794f69427a9dd9a7834': 2.7009978882721293, '0xafbd66706f90bc56d29c39a260930b34b2757ed8': 11.55602988401831, '0x83b55df61cd1181f019df8e93d46bafd31806d50': 11.171181963198238, '0xc24fd5c977b982e2eb1ca1ae3f2d2daf28ace35a': 20.20190134086999, '0xb8db44e12eacc48f7c2224a248c8990289556fae': 14.253041976310826, '0x6916487f0c4553b9ee2f401847b6c58341b76991': 8.410344772173252, '0x771a428b865a3984085ed49a0ca550dd222bb60b': 5.394297405234651, '0x1876eccb4edd3ed95051c64824430fc7f1c8763c': 0.3481652708218696, '0x2b17924d0d2f3d70aefb07602c7926827677ba19': 0.03472647415, '0xd1208cc82765aa4dc696117d26f37388b6dcb6d5': 0.06250864655, '0xe2f8cefcdee51f48e3ce5c4deea3095c43369b36': 0.00852386259619853}\n"
     ]
    }
   ],
   "source": [
    "#get all withdrawals\n",
    "no_to_withdrawals = {}\n",
    "node_to_no = {}\n",
    "\n",
    "node_manager_abi = json.load(open(\"./abis/etherfinodesmanager.json\"))\n",
    "NODE_MANAGER_ADDRESS = '0x8b71140ad2e5d1e7018d2a7f8a288bd3cd38916f'\n",
    "\n",
    "node_manager_contract = asyncProvider.eth.contract(address=Web3.to_checksum_address(NODE_MANAGER_ADDRESS), abi=node_manager_abi)\n",
    "\n",
    "logs = []\n",
    "for i in range(FROM_BLOCK, TO_BLOCK, 10000):\n",
    "    logs += (await node_manager_contract.events.PartialWithdrawal().get_logs(fromBlock=i, toBlock=i+10000))\n",
    "    logs += (await node_manager_contract.events.FullWithdrawal().get_logs(fromBlock=i, toBlock=i+10000))\n",
    "\n",
    "for val in max_eth_validators + pod_rewards_only_validators:\n",
    "    node_to_no[(val[\"etherfiNode\"]).lower()] = val[\"bid\"][\"bidderAddress\"]\n",
    "\n",
    "print(\"length of logs: \", len(logs))\n",
    "\n",
    "for log in logs:\n",
    "    no = node_to_no[(log[\"args\"][\"etherFiNode\"]).lower()] \n",
    "    toTreasury = (log[\"args\"][\"toTreasury\"]) / 2 / 10**18\n",
    "    no_to_withdrawals[no] = no_to_withdrawals.get(no, 0) + toTreasury\n",
    "    \n",
    "print(no_to_withdrawals)"
   ]
  },
  {
   "cell_type": "markdown",
   "id": "d62e429f",
   "metadata": {},
   "source": [
    "###  Calculate Total Rewards Accrued To Node Operator by START_BLOCK by querying all of a node operator's contract hold consensus and execution rewards. "
   ]
  },
  {
   "cell_type": "code",
   "execution_count": 17,
   "id": "77bfab99",
   "metadata": {},
   "outputs": [
    {
     "name": "stdout",
     "output_type": "stream",
     "text": [
      "length of large data is:  41598\n"
     ]
    }
   ],
   "source": [
    "#Get total rewards at START_BLOCK grouped by node operator\n",
    "no_to_payout_start = {}\n",
    "\n",
    "#takes 3-7mins to run\n",
    "#validators with 1 eth deposited to beacon deposit contract\n",
    "BLOCK_NUMBER = FROM_BLOCK\n",
    "\n",
    "all_validators_at_start = await subgraph.fetch_large_data_from_graph((subgraph.queries[\"validators\"]) % FROM_BLOCK, \"validators\")\n",
    "\n",
    "# # validators with 32 eth\n",
    "max_eth_validators_start = filter_validators_by_phase(all_validators_at_start, [\"LIVE\", \"EXITED\", \"BEING_SLASHED\"])\n",
    "max_eth_validators_ids_start, _ = await get_ids_etherfinodes(max_eth_validators_start)\n",
    "max_eth_pubkeys_start = await get_pubkeys(max_eth_validators_start)\n",
    "max_eth_validators_beacon_info_start = await beacon_api.get_beacon_info_by_pubkeys(max_eth_pubkeys_start)\n",
    "max_eth_validators_etherfinodes_start = await get_etherfi_node_contracts(max_eth_validators_start)\n",
    "max_eth_validators_eigenpods_start = await get_eigenpods(max_eth_validators_beacon_info_start)\n",
    "\n",
    "#validators with 0 eth towards validators but has rewards in eigenpods\n",
    "pod_rewards_only_validators_start = filter_validators_by_phase(all_validators_at_start, [\"FULLY_WITHDRAWN\"])\n",
    "pod_rewards_only_pubkeys_start = await get_pubkeys(pod_rewards_only_validators_start)\n",
    "pod_rewards_only_validators_beacon_info_start = await beacon_api.get_beacon_info_by_pubkeys(pod_rewards_only_pubkeys_start)\n",
    "pod_rewards_only_validators_etherfinodes_start = await get_etherfi_node_contracts(pod_rewards_only_validators_start)\n",
    "pod_rewards_only_validators_eigenpods_start = await get_eigenpods(pod_rewards_only_validators_beacon_info_start)\n",
    "\n",
    "\n",
    "# validators with 32 eth\n",
    "max_eth_validator_beacon_balances_start = []\n",
    "max_eth_validator_eigenpods_balances_start = await get_balances(max_eth_validators_eigenpods_start)\n",
    "max_eth_validators_etherfinode_balances_start = await get_balances(max_eth_validators_etherfinodes_start)\n",
    "_, _, max_eth_validator_delayed_balance_start = await get_delayed_withdrawal_eth(max_eth_validators_ids_start)\n",
    "delayed_withdrawal_eth_balance_start = dict(zip(max_eth_validators_etherfinodes_start, max_eth_validator_delayed_balance_start))\n",
    "\n",
    "\n",
    "#validators with 0 eth towards validators but has rewards in eigenpods\n",
    "pod_rewards_only_validators_eigenpods_balances_start = await get_balances(pod_rewards_only_validators_eigenpods_start)\n",
    "pod_rewards_only_validators_etherfinode_balances_start = await get_balances(pod_rewards_only_validators_etherfinodes_start)\n",
    "\n",
    "vals_per_contract_start = get_num_vals_shared_contract(max_eth_validators_start + pod_rewards_only_validators_start)\n",
    "max_validator_external_payout_start = await get_rewards_payout_to_no(max_eth_validators_start, get_pubkey_to_eigenpods(max_eth_pubkeys_start, max_eth_validators_beacon_info_start), max_eth_validator_beacon_balances_start, max_eth_validator_eigenpods_balances_start, max_eth_validators_etherfinode_balances_start, delayed_withdrawal_eth_balance_start, vals_per_contract_start)\n",
    "pod_rewards_only_external_payout_start = await get_rewards_payout_for_withdrawn_validator_no(pod_rewards_only_validators_start, get_pubkey_to_eigenpods(pod_rewards_only_pubkeys_start, pod_rewards_only_validators_beacon_info_start), pod_rewards_only_validators_eigenpods_balances_start, pod_rewards_only_validators_etherfinode_balances_start, vals_per_contract_start)\n",
    "\n",
    "\n",
    "for no, balance in max_validator_external_payout_start.items():\n",
    "    no_to_payout_start[no] = (balance + pod_rewards_only_external_payout_start.get(no, 0))"
   ]
  },
  {
   "cell_type": "code",
   "execution_count": 18,
   "id": "4f2316ce",
   "metadata": {},
   "outputs": [],
   "source": [
    "\n",
    "final_payment_amount = {}\n",
    "for no, balance in no_to_payout_end.items():\n",
    "    final_payment_amount[no] = balance + no_to_withdrawals.get(no, 0) - no_to_payout_start.get(no, 0)"
   ]
  },
  {
   "cell_type": "code",
   "execution_count": 19,
   "id": "b9a58151",
   "metadata": {},
   "outputs": [
    {
     "name": "stdout",
     "output_type": "stream",
     "text": [
      "{'0x1876eccb4edd3ed95051c64824430fc7f1c8763c': 'solo_staker', '0x2b17924d0d2f3d70aefb07602c7926827677ba19': 'p2p', '0x5bea039db7a516a2f1c258fe002c9ec9ac75730d': 'p2p ssv', '0x6916487f0c4553b9ee2f401847b6c58341b76991': 'nodemonster', '0x74b44741efbc3edc7f0cdade165eab1afe9c65ca': 'allnode-2', '0x771a428b865a3984085ed49a0ca550dd222bb60b': 'nethermind', '0x78ca32ac90d7f99225a3b9288d561e0cb3744899': 'allnodes', '0x7c0576343975a1360ceb91238e7b7985b8d71bf4': 'dsrv', '0x83b55df61cd1181f019df8e93d46bafd31806d50': 'A41', '0xafbd66706f90bc56d29c39a260930b34b2757ed8': 'chainnodes', '0xb8db44e12eacc48f7c2224a248c8990289556fae': 'finoa', '0xc24fd5c977b982e2eb1ca1ae3f2d2daf28ace35a': 'pier_two', '0xc9000c7c13e3498158d9cc1f6058aaffddd95b0a': 'blockdaemon', '0xd1208cc82765aa4dc696117d26f37388b6dcb6d5': 'ssv_dvt', '0xd624feff4b4e77486b544c93a30794ca4b3f10a2': 'cosmostation', '0xe2f8cefcdee51f48e3ce5c4deea3095c43369b36': 'infstones', '0xf92204022cdf7ee0763ef794f69427a9dd9a7834': 'validation_cloud', '0xfa1d66bf587eea1c59c63e3e6f471c5805ea8a2f': 'Obol DVT'}\n"
     ]
    }
   ],
   "source": [
    "#import csv and create mapping from no to name\n",
    "import csv \n",
    "address_to_name = {}\n",
    "with open(\"mainnet.csv\", \"r\") as f:\n",
    "    reader = csv.reader(f)\n",
    "    for row in reader:\n",
    "        address_to_name[row[0]] = row[1]\n",
    "print(address_to_name)"
   ]
  },
  {
   "cell_type": "markdown",
   "id": "999e19ac",
   "metadata": {},
   "source": [
    "### Total Rewards Earned is:  Total Rewards Earned Upto Date - Rewards Earned last pay period + all claimed rewards this quarter"
   ]
  },
  {
   "cell_type": "code",
   "execution_count": 20,
   "id": "8880999c",
   "metadata": {},
   "outputs": [
    {
     "data": {
      "text/plain": [
       "{'solo_staker': 1.895066822820157,\n",
       " 'p2p': 7.29716897760002,\n",
       " 'p2p ssv': 27.51743584955088,\n",
       " 'nodemonster': 54.49951806402713,\n",
       " 'allnode-2': 2.8426395222287364,\n",
       " 'nethermind': 72.15456492300467,\n",
       " 'allnodes': 102.22416690728141,\n",
       " 'dsrv': 115.20959288485024,\n",
       " 'A41': 63.464058864406795,\n",
       " 'chainnodes': 74.80130177140046,\n",
       " 'finoa': 47.68414164955007,\n",
       " 'pier_two': 88.30073614837198,\n",
       " 'blockdaemon': 8.939954893266856,\n",
       " 'ssv_dvt': 49.48538165920212,\n",
       " 'cosmostation': 74.70013580472803,\n",
       " 'infstones': 12.827986404692867,\n",
       " 'validation_cloud': 69.45208399578051,\n",
       " 'Obol DVT': 12.271511982700066}"
      ]
     },
     "execution_count": 20,
     "metadata": {},
     "output_type": "execute_result"
    }
   ],
   "source": [
    "name_to_balance = {}\n",
    "for address, name in address_to_name.items():\n",
    "    amount = final_payment_amount[address]\n",
    "    name_to_balance[name] = amount\n",
    "    \n",
    "name_to_balance"
   ]
  }
 ],
 "metadata": {
  "kernelspec": {
   "display_name": "Python 3 (ipykernel)",
   "language": "python",
   "name": "python3"
  },
  "language_info": {
   "codemirror_mode": {
    "name": "ipython",
    "version": 3
   },
   "file_extension": ".py",
   "mimetype": "text/x-python",
   "name": "python",
   "nbconvert_exporter": "python",
   "pygments_lexer": "ipython3",
   "version": "3.12.4"
  }
 },
 "nbformat": 4,
 "nbformat_minor": 5
}
